{
 "cells": [
  {
   "cell_type": "markdown",
   "metadata": {},
   "source": [
    "# Friction Angle Machine Learning Models\n",
    "\n",
    "In this notebook, we train and test 8 machine learning models to predict the friction angle from soil cavity simualtions.\n",
    "\n",
    "| **Model**                                                          | **Description**                                                                                                                                                                                     |\n",
    "|-------------------------------------------------------------------------|----------------------------------------------------------------------------------------------------------------------------------------------------------------------------------------------------------|\n",
    "| Linear Regression with $H$, $d$                                         | Regularized multiple linear regression fitted with two numerical values: cavity depth $H$ and soil density $d$. The regularization power $\\lambda$ with $L_1$ penalty is tuned.                          |\n",
    "| Linear Regression with $H$, $d$, $\\sigma_r$                             | Regularized multiple linear regression fitted with vectorized stress fields $\\sigma_r$ concatenated with $H$ and $d$. The regularization power $\\lambda$ with $L_1$ penalty is tuned.                    |\n",
    "| Fully-connected Neural Network with $\\sigma_r$                          | Fully-connected two-hidden-layer neural network with vectorized stress fields $\\sigma_r$. The number of hidden neurons, learning rate, and batch size are tuned.                                         |\n",
    "| Fully-connected Neural Network with $H$, $d$, $\\sigma_r$                | Fully-connected two-hidden-layer neural network with cavity depth $H$, soil density $d$, and vectorized stress fields $\\sigma_r$. The number of hidden neurons, learning rate, and batch size are tuned. |\n",
    "| Convolutional Neural Network with $\\sigma_r$                            | Convolutional neural network with 6 hidden layers trained with stress field images $\\sigma_r$. The learning rate and batch size are tuned.                                                               |\n",
    "| Convolutional Neural Network with $H$, $d$, and $\\sigma_r$              | Convolutional neural network with 6 hidden layers trained with cavity depth $H$, soil density $d$, and stress field images $\\sigma_r$. The learning rate and batch size are tuned.                       |\n",
    "| Convolutional Neural Network with $H$, $d$, and interpolated $\\sigma_r$ | Convolutional neural network with 6 hidden layers trained with cavity depth $H$, soil density $d$, and interpolated stress field images $\\sigma_r$. The learning rate and batch size are tuned.          |\n",
    "| Mean-score Predictor                                                    | Predict $\\phi$ using the average mean of $\\phi$ scores in the training set.                                                                                                                              |"
   ]
  },
  {
   "cell_type": "code",
   "execution_count": 1,
   "metadata": {},
   "outputs": [],
   "source": [
    "import numpy as np\n",
    "import pandas as pd\n",
    "import re\n",
    "import cv2\n",
    "\n",
    "from random import sample\n",
    "from scipy.optimize import curve_fit\n",
    "from matplotlib.patches import Ellipse\n",
    "from glob import glob\n",
    "from json import load, dump\n",
    "from os.path import basename\n",
    "from sklearn.preprocessing import StandardScaler, PolynomialFeatures\n",
    "\n",
    "from matplotlib import pyplot as plt\n",
    "import seaborn\n",
    "from mpl_toolkits.mplot3d import Axes3D\n",
    "plt.style.use('ggplot')\n",
    "from collections import Counter\n",
    "from random import sample\n",
    "from tqdm import tqdm\n",
    "\n",
    "from scipy.optimize import curve_fit\n",
    "from sklearn.model_selection import train_test_split\n",
    "from sklearn import linear_model\n",
    "from sklearn import metrics\n",
    "from sklearn.preprocessing import StandardScaler, PolynomialFeatures\n",
    "from sklearn.model_selection import GridSearchCV, RandomizedSearchCV\n",
    "from sklearn.multioutput import MultiOutputRegressor\n",
    "from sklearn.model_selection import cross_val_score\n",
    "from sklearn.ensemble import RandomForestRegressor\n",
    "\n",
    "import torch\n",
    "import torch.nn as nn\n",
    "import torch.nn.functional as F\n",
    "from torch.utils.data import Dataset, DataLoader\n",
    "import torch.optim as optim\n",
    "import copy\n",
    "import scipy.io\n",
    "\n",
    "RANDOM_SEED = 5012021"
   ]
  },
  {
   "cell_type": "markdown",
   "metadata": {},
   "source": [
    "## 1. Linear regression with Depth + Density"
   ]
  },
  {
   "cell_type": "markdown",
   "metadata": {},
   "source": [
    "### 1.1. Create Dataset"
   ]
  },
  {
   "cell_type": "code",
   "execution_count": 2,
   "metadata": {},
   "outputs": [
    {
     "data": {
      "text/html": [
       "<div>\n",
       "<style scoped>\n",
       "    .dataframe tbody tr th:only-of-type {\n",
       "        vertical-align: middle;\n",
       "    }\n",
       "\n",
       "    .dataframe tbody tr th {\n",
       "        vertical-align: top;\n",
       "    }\n",
       "\n",
       "    .dataframe thead th {\n",
       "        text-align: right;\n",
       "    }\n",
       "</style>\n",
       "<table border=\"1\" class=\"dataframe\">\n",
       "  <thead>\n",
       "    <tr style=\"text-align: right;\">\n",
       "      <th></th>\n",
       "      <th>Folder</th>\n",
       "      <th>Depth</th>\n",
       "      <th>d</th>\n",
       "      <th>E</th>\n",
       "      <th>v</th>\n",
       "      <th>phi</th>\n",
       "      <th>psi</th>\n",
       "      <th>c</th>\n",
       "      <th>sv</th>\n",
       "      <th>sh</th>\n",
       "      <th>Delft_inf</th>\n",
       "      <th>Delft_sug</th>\n",
       "      <th>Exists</th>\n",
       "      <th>yield_angle</th>\n",
       "      <th>yield_stress</th>\n",
       "      <th>yield_strain</th>\n",
       "    </tr>\n",
       "  </thead>\n",
       "  <tbody>\n",
       "    <tr>\n",
       "      <th>0</th>\n",
       "      <td>Disp_0</td>\n",
       "      <td>42</td>\n",
       "      <td>2108.58</td>\n",
       "      <td>49040300</td>\n",
       "      <td>0.292470</td>\n",
       "      <td>44.522842</td>\n",
       "      <td>14.1261</td>\n",
       "      <td>4999.998647</td>\n",
       "      <td>868.777132</td>\n",
       "      <td>259.596199</td>\n",
       "      <td>6113.901626</td>\n",
       "      <td>6089.417004</td>\n",
       "      <td>1</td>\n",
       "      <td>45.0</td>\n",
       "      <td>1371.814247</td>\n",
       "      <td>0.053224</td>\n",
       "    </tr>\n",
       "    <tr>\n",
       "      <th>1</th>\n",
       "      <td>Disp_1</td>\n",
       "      <td>42</td>\n",
       "      <td>2378.76</td>\n",
       "      <td>30544100</td>\n",
       "      <td>0.384267</td>\n",
       "      <td>30.984098</td>\n",
       "      <td>19.1708</td>\n",
       "      <td>4999.998860</td>\n",
       "      <td>980.096695</td>\n",
       "      <td>475.542763</td>\n",
       "      <td>4251.249310</td>\n",
       "      <td>4241.385338</td>\n",
       "      <td>1</td>\n",
       "      <td>NaN</td>\n",
       "      <td>inf</td>\n",
       "      <td>inf</td>\n",
       "    </tr>\n",
       "    <tr>\n",
       "      <th>2</th>\n",
       "      <td>Disp_10</td>\n",
       "      <td>26</td>\n",
       "      <td>1943.92</td>\n",
       "      <td>54098200</td>\n",
       "      <td>0.277512</td>\n",
       "      <td>31.420224</td>\n",
       "      <td>17.8703</td>\n",
       "      <td>4999.994369</td>\n",
       "      <td>495.816235</td>\n",
       "      <td>237.341833</td>\n",
       "      <td>3442.231579</td>\n",
       "      <td>3367.061231</td>\n",
       "      <td>1</td>\n",
       "      <td>NaN</td>\n",
       "      <td>inf</td>\n",
       "      <td>inf</td>\n",
       "    </tr>\n",
       "    <tr>\n",
       "      <th>3</th>\n",
       "      <td>Disp_100</td>\n",
       "      <td>37</td>\n",
       "      <td>2341.64</td>\n",
       "      <td>98842600</td>\n",
       "      <td>0.302208</td>\n",
       "      <td>36.306435</td>\n",
       "      <td>13.4055</td>\n",
       "      <td>4999.997057</td>\n",
       "      <td>849.945071</td>\n",
       "      <td>346.689454</td>\n",
       "      <td>6781.475357</td>\n",
       "      <td>6706.207493</td>\n",
       "      <td>1</td>\n",
       "      <td>NaN</td>\n",
       "      <td>inf</td>\n",
       "      <td>inf</td>\n",
       "    </tr>\n",
       "    <tr>\n",
       "      <th>4</th>\n",
       "      <td>Disp_1000</td>\n",
       "      <td>18</td>\n",
       "      <td>1794.09</td>\n",
       "      <td>51484900</td>\n",
       "      <td>0.339554</td>\n",
       "      <td>43.157792</td>\n",
       "      <td>14.0802</td>\n",
       "      <td>5000.006868</td>\n",
       "      <td>316.800412</td>\n",
       "      <td>100.105789</td>\n",
       "      <td>3325.922880</td>\n",
       "      <td>3142.177730</td>\n",
       "      <td>1</td>\n",
       "      <td>40.0</td>\n",
       "      <td>527.343236</td>\n",
       "      <td>0.022421</td>\n",
       "    </tr>\n",
       "  </tbody>\n",
       "</table>\n",
       "</div>"
      ],
      "text/plain": [
       "      Folder  Depth        d         E         v        phi      psi  \\\n",
       "0     Disp_0     42  2108.58  49040300  0.292470  44.522842  14.1261   \n",
       "1     Disp_1     42  2378.76  30544100  0.384267  30.984098  19.1708   \n",
       "2    Disp_10     26  1943.92  54098200  0.277512  31.420224  17.8703   \n",
       "3   Disp_100     37  2341.64  98842600  0.302208  36.306435  13.4055   \n",
       "4  Disp_1000     18  1794.09  51484900  0.339554  43.157792  14.0802   \n",
       "\n",
       "             c          sv          sh    Delft_inf    Delft_sug  Exists  \\\n",
       "0  4999.998647  868.777132  259.596199  6113.901626  6089.417004       1   \n",
       "1  4999.998860  980.096695  475.542763  4251.249310  4241.385338       1   \n",
       "2  4999.994369  495.816235  237.341833  3442.231579  3367.061231       1   \n",
       "3  4999.997057  849.945071  346.689454  6781.475357  6706.207493       1   \n",
       "4  5000.006868  316.800412  100.105789  3325.922880  3142.177730       1   \n",
       "\n",
       "   yield_angle  yield_stress  yield_strain  \n",
       "0         45.0   1371.814247      0.053224  \n",
       "1          NaN           inf           inf  \n",
       "2          NaN           inf           inf  \n",
       "3          NaN           inf           inf  \n",
       "4         40.0    527.343236      0.022421  "
      ]
     },
     "execution_count": 2,
     "metadata": {},
     "output_type": "execute_result"
    }
   ],
   "source": [
    "input_df = pd.read_csv('./data/data-12-01/Disp_Output.csv')\n",
    "input_df.head()"
   ]
  },
  {
   "cell_type": "code",
   "execution_count": 3,
   "metadata": {},
   "outputs": [
    {
     "name": "stderr",
     "output_type": "stream",
     "text": [
      "/nethome/zwang3049/jay/miniconda3/envs/nlp/lib/python3.8/site-packages/pandas/core/indexing.py:1773: SettingWithCopyWarning: \n",
      "A value is trying to be set on a copy of a slice from a DataFrame.\n",
      "Try using .loc[row_indexer,col_indexer] = value instead\n",
      "\n",
      "See the caveats in the documentation: https://pandas.pydata.org/pandas-docs/stable/user_guide/indexing.html#returning-a-view-versus-a-copy\n",
      "  self._setitem_single_column(ilocs[0], value, pi)\n"
     ]
    }
   ],
   "source": [
    "feature_df = input_df.iloc[:, [0, 1, 2, 3, 4, 5, 6, 8, 9, 14]]\n",
    "#feature_df.loc[:, 'phi'] = np.sin(feature_df['phi'])\n",
    "feature_df.loc[:, 'psi'] = np.sin(feature_df['psi'])\n",
    "\n",
    "# Need to handle the nan cases in the last feature\n",
    "max_stress = list(np.sort(list(set(feature_df['yield_stress']))))[-2] * 1.2\n",
    "feature_df.loc[:, 'yield_stress'] = [x if x != np.inf else max_stress for x in\n",
    "                                     feature_df['yield_stress']]"
   ]
  },
  {
   "cell_type": "code",
   "execution_count": 4,
   "metadata": {},
   "outputs": [
    {
     "data": {
      "text/html": [
       "<div>\n",
       "<style scoped>\n",
       "    .dataframe tbody tr th:only-of-type {\n",
       "        vertical-align: middle;\n",
       "    }\n",
       "\n",
       "    .dataframe tbody tr th {\n",
       "        vertical-align: top;\n",
       "    }\n",
       "\n",
       "    .dataframe thead th {\n",
       "        text-align: right;\n",
       "    }\n",
       "</style>\n",
       "<table border=\"1\" class=\"dataframe\">\n",
       "  <thead>\n",
       "    <tr style=\"text-align: right;\">\n",
       "      <th></th>\n",
       "      <th>Folder</th>\n",
       "      <th>Depth</th>\n",
       "      <th>d</th>\n",
       "      <th>E</th>\n",
       "      <th>v</th>\n",
       "      <th>phi</th>\n",
       "      <th>psi</th>\n",
       "      <th>sv</th>\n",
       "      <th>sh</th>\n",
       "      <th>yield_stress</th>\n",
       "    </tr>\n",
       "  </thead>\n",
       "  <tbody>\n",
       "    <tr>\n",
       "      <th>0</th>\n",
       "      <td>Disp_0</td>\n",
       "      <td>42</td>\n",
       "      <td>2108.58</td>\n",
       "      <td>49040300</td>\n",
       "      <td>0.292470</td>\n",
       "      <td>44.522842</td>\n",
       "      <td>0.999939</td>\n",
       "      <td>868.777132</td>\n",
       "      <td>259.596199</td>\n",
       "      <td>1371.814247</td>\n",
       "    </tr>\n",
       "    <tr>\n",
       "      <th>1</th>\n",
       "      <td>Disp_1</td>\n",
       "      <td>42</td>\n",
       "      <td>2378.76</td>\n",
       "      <td>30544100</td>\n",
       "      <td>0.384267</td>\n",
       "      <td>30.984098</td>\n",
       "      <td>0.315747</td>\n",
       "      <td>980.096695</td>\n",
       "      <td>475.542763</td>\n",
       "      <td>12599.315984</td>\n",
       "    </tr>\n",
       "    <tr>\n",
       "      <th>2</th>\n",
       "      <td>Disp_10</td>\n",
       "      <td>26</td>\n",
       "      <td>1943.92</td>\n",
       "      <td>54098200</td>\n",
       "      <td>0.277512</td>\n",
       "      <td>31.420224</td>\n",
       "      <td>-0.830083</td>\n",
       "      <td>495.816235</td>\n",
       "      <td>237.341833</td>\n",
       "      <td>12599.315984</td>\n",
       "    </tr>\n",
       "    <tr>\n",
       "      <th>3</th>\n",
       "      <td>Disp_100</td>\n",
       "      <td>37</td>\n",
       "      <td>2341.64</td>\n",
       "      <td>98842600</td>\n",
       "      <td>0.302208</td>\n",
       "      <td>36.306435</td>\n",
       "      <td>0.744062</td>\n",
       "      <td>849.945071</td>\n",
       "      <td>346.689454</td>\n",
       "      <td>12599.315984</td>\n",
       "    </tr>\n",
       "    <tr>\n",
       "      <th>4</th>\n",
       "      <td>Disp_1000</td>\n",
       "      <td>18</td>\n",
       "      <td>1794.09</td>\n",
       "      <td>51484900</td>\n",
       "      <td>0.339554</td>\n",
       "      <td>43.157792</td>\n",
       "      <td>0.998378</td>\n",
       "      <td>316.800412</td>\n",
       "      <td>100.105789</td>\n",
       "      <td>527.343236</td>\n",
       "    </tr>\n",
       "    <tr>\n",
       "      <th>...</th>\n",
       "      <td>...</td>\n",
       "      <td>...</td>\n",
       "      <td>...</td>\n",
       "      <td>...</td>\n",
       "      <td>...</td>\n",
       "      <td>...</td>\n",
       "      <td>...</td>\n",
       "      <td>...</td>\n",
       "      <td>...</td>\n",
       "      <td>...</td>\n",
       "    </tr>\n",
       "    <tr>\n",
       "      <th>1495</th>\n",
       "      <td>Disp_995</td>\n",
       "      <td>22</td>\n",
       "      <td>2193.27</td>\n",
       "      <td>32543800</td>\n",
       "      <td>0.303484</td>\n",
       "      <td>22.948507</td>\n",
       "      <td>-0.482105</td>\n",
       "      <td>473.351531</td>\n",
       "      <td>288.790019</td>\n",
       "      <td>12599.315984</td>\n",
       "    </tr>\n",
       "    <tr>\n",
       "      <th>1496</th>\n",
       "      <td>Disp_996</td>\n",
       "      <td>23</td>\n",
       "      <td>1840.08</td>\n",
       "      <td>91644200</td>\n",
       "      <td>0.367731</td>\n",
       "      <td>32.859599</td>\n",
       "      <td>0.814962</td>\n",
       "      <td>415.177250</td>\n",
       "      <td>189.909436</td>\n",
       "      <td>1856.090156</td>\n",
       "    </tr>\n",
       "    <tr>\n",
       "      <th>1497</th>\n",
       "      <td>Disp_997</td>\n",
       "      <td>26</td>\n",
       "      <td>2175.94</td>\n",
       "      <td>47073400</td>\n",
       "      <td>0.380248</td>\n",
       "      <td>27.135103</td>\n",
       "      <td>-0.569548</td>\n",
       "      <td>554.995256</td>\n",
       "      <td>301.867349</td>\n",
       "      <td>12599.315984</td>\n",
       "    </tr>\n",
       "    <tr>\n",
       "      <th>1498</th>\n",
       "      <td>Disp_998</td>\n",
       "      <td>31</td>\n",
       "      <td>2140.87</td>\n",
       "      <td>80047000</td>\n",
       "      <td>0.340440</td>\n",
       "      <td>42.031298</td>\n",
       "      <td>-0.394053</td>\n",
       "      <td>651.059976</td>\n",
       "      <td>215.151590</td>\n",
       "      <td>12599.315984</td>\n",
       "    </tr>\n",
       "    <tr>\n",
       "      <th>1499</th>\n",
       "      <td>Disp_999</td>\n",
       "      <td>33</td>\n",
       "      <td>1628.34</td>\n",
       "      <td>90986400</td>\n",
       "      <td>0.337591</td>\n",
       "      <td>23.403375</td>\n",
       "      <td>-0.880661</td>\n",
       "      <td>527.142508</td>\n",
       "      <td>317.760475</td>\n",
       "      <td>12599.315984</td>\n",
       "    </tr>\n",
       "  </tbody>\n",
       "</table>\n",
       "<p>1500 rows × 10 columns</p>\n",
       "</div>"
      ],
      "text/plain": [
       "         Folder  Depth        d         E         v        phi       psi  \\\n",
       "0        Disp_0     42  2108.58  49040300  0.292470  44.522842  0.999939   \n",
       "1        Disp_1     42  2378.76  30544100  0.384267  30.984098  0.315747   \n",
       "2       Disp_10     26  1943.92  54098200  0.277512  31.420224 -0.830083   \n",
       "3      Disp_100     37  2341.64  98842600  0.302208  36.306435  0.744062   \n",
       "4     Disp_1000     18  1794.09  51484900  0.339554  43.157792  0.998378   \n",
       "...         ...    ...      ...       ...       ...        ...       ...   \n",
       "1495   Disp_995     22  2193.27  32543800  0.303484  22.948507 -0.482105   \n",
       "1496   Disp_996     23  1840.08  91644200  0.367731  32.859599  0.814962   \n",
       "1497   Disp_997     26  2175.94  47073400  0.380248  27.135103 -0.569548   \n",
       "1498   Disp_998     31  2140.87  80047000  0.340440  42.031298 -0.394053   \n",
       "1499   Disp_999     33  1628.34  90986400  0.337591  23.403375 -0.880661   \n",
       "\n",
       "              sv          sh  yield_stress  \n",
       "0     868.777132  259.596199   1371.814247  \n",
       "1     980.096695  475.542763  12599.315984  \n",
       "2     495.816235  237.341833  12599.315984  \n",
       "3     849.945071  346.689454  12599.315984  \n",
       "4     316.800412  100.105789    527.343236  \n",
       "...          ...         ...           ...  \n",
       "1495  473.351531  288.790019  12599.315984  \n",
       "1496  415.177250  189.909436   1856.090156  \n",
       "1497  554.995256  301.867349  12599.315984  \n",
       "1498  651.059976  215.151590  12599.315984  \n",
       "1499  527.142508  317.760475  12599.315984  \n",
       "\n",
       "[1500 rows x 10 columns]"
      ]
     },
     "execution_count": 4,
     "metadata": {},
     "output_type": "execute_result"
    }
   ],
   "source": [
    "feature_df"
   ]
  },
  {
   "cell_type": "code",
   "execution_count": 5,
   "metadata": {},
   "outputs": [
    {
     "data": {
      "text/html": [
       "<div>\n",
       "<style scoped>\n",
       "    .dataframe tbody tr th:only-of-type {\n",
       "        vertical-align: middle;\n",
       "    }\n",
       "\n",
       "    .dataframe tbody tr th {\n",
       "        vertical-align: top;\n",
       "    }\n",
       "\n",
       "    .dataframe thead th {\n",
       "        text-align: right;\n",
       "    }\n",
       "</style>\n",
       "<table border=\"1\" class=\"dataframe\">\n",
       "  <thead>\n",
       "    <tr style=\"text-align: right;\">\n",
       "      <th></th>\n",
       "      <th>Folder</th>\n",
       "      <th>Depth</th>\n",
       "      <th>d</th>\n",
       "      <th>E</th>\n",
       "      <th>v</th>\n",
       "      <th>phi</th>\n",
       "      <th>psi</th>\n",
       "      <th>sv</th>\n",
       "      <th>sh</th>\n",
       "      <th>yield_stress</th>\n",
       "    </tr>\n",
       "  </thead>\n",
       "  <tbody>\n",
       "    <tr>\n",
       "      <th>0</th>\n",
       "      <td>Disp_0</td>\n",
       "      <td>1.098729</td>\n",
       "      <td>0.500785</td>\n",
       "      <td>-0.803819</td>\n",
       "      <td>-0.805880</td>\n",
       "      <td>44.522842</td>\n",
       "      <td>1.396116</td>\n",
       "      <td>1.235756</td>\n",
       "      <td>0.080602</td>\n",
       "      <td>1371.814247</td>\n",
       "    </tr>\n",
       "    <tr>\n",
       "      <th>1</th>\n",
       "      <td>Disp_1</td>\n",
       "      <td>1.098729</td>\n",
       "      <td>1.668165</td>\n",
       "      <td>-1.710334</td>\n",
       "      <td>1.326171</td>\n",
       "      <td>30.984098</td>\n",
       "      <td>0.380337</td>\n",
       "      <td>1.648810</td>\n",
       "      <td>1.626524</td>\n",
       "      <td>12599.315984</td>\n",
       "    </tr>\n",
       "    <tr>\n",
       "      <th>2</th>\n",
       "      <td>Disp_10</td>\n",
       "      <td>-0.104479</td>\n",
       "      <td>-0.210669</td>\n",
       "      <td>-0.555927</td>\n",
       "      <td>-1.153291</td>\n",
       "      <td>31.420224</td>\n",
       "      <td>-1.320810</td>\n",
       "      <td>-0.148124</td>\n",
       "      <td>-0.078713</td>\n",
       "      <td>12599.315984</td>\n",
       "    </tr>\n",
       "    <tr>\n",
       "      <th>3</th>\n",
       "      <td>Disp_100</td>\n",
       "      <td>0.722727</td>\n",
       "      <td>1.507779</td>\n",
       "      <td>1.637035</td>\n",
       "      <td>-0.579708</td>\n",
       "      <td>36.306435</td>\n",
       "      <td>1.016230</td>\n",
       "      <td>1.165879</td>\n",
       "      <td>0.704087</td>\n",
       "      <td>12599.315984</td>\n",
       "    </tr>\n",
       "    <tr>\n",
       "      <th>4</th>\n",
       "      <td>Disp_1000</td>\n",
       "      <td>-0.706083</td>\n",
       "      <td>-0.858047</td>\n",
       "      <td>-0.684007</td>\n",
       "      <td>0.287680</td>\n",
       "      <td>43.157792</td>\n",
       "      <td>1.393799</td>\n",
       "      <td>-0.812367</td>\n",
       "      <td>-1.061161</td>\n",
       "      <td>527.343236</td>\n",
       "    </tr>\n",
       "  </tbody>\n",
       "</table>\n",
       "</div>"
      ],
      "text/plain": [
       "      Folder     Depth         d         E         v        phi       psi  \\\n",
       "0     Disp_0  1.098729  0.500785 -0.803819 -0.805880  44.522842  1.396116   \n",
       "1     Disp_1  1.098729  1.668165 -1.710334  1.326171  30.984098  0.380337   \n",
       "2    Disp_10 -0.104479 -0.210669 -0.555927 -1.153291  31.420224 -1.320810   \n",
       "3   Disp_100  0.722727  1.507779  1.637035 -0.579708  36.306435  1.016230   \n",
       "4  Disp_1000 -0.706083 -0.858047 -0.684007  0.287680  43.157792  1.393799   \n",
       "\n",
       "         sv        sh  yield_stress  \n",
       "0  1.235756  0.080602   1371.814247  \n",
       "1  1.648810  1.626524  12599.315984  \n",
       "2 -0.148124 -0.078713  12599.315984  \n",
       "3  1.165879  0.704087  12599.315984  \n",
       "4 -0.812367 -1.061161    527.343236  "
      ]
     },
     "execution_count": 5,
     "metadata": {},
     "output_type": "execute_result"
    }
   ],
   "source": [
    "# Normalize the feature dataframe\n",
    "feature_df_normalized = feature_df.copy()\n",
    "feature_df_normalized\n",
    "\n",
    "feature_js = [1, 2, 3, 4, 6, 7, 8]\n",
    "scaler = StandardScaler()\n",
    "scaler.fit(feature_df.iloc[:, feature_js])\n",
    "feature_df_normalized.iloc[:, feature_js] = scaler.transform(feature_df.iloc[:, feature_js])\n",
    "\n",
    "feature_df_normalized.head()"
   ]
  },
  {
   "cell_type": "code",
   "execution_count": 6,
   "metadata": {},
   "outputs": [],
   "source": [
    "# We also load the image data to make sure that we are working on the same\n",
    "# training/test dataset (just with different features)\n",
    "\n",
    "heatmap_image_data = np.load('./data/displayment-heatmaps-normalized-resized.npz')\n",
    "heatmaps_images = heatmap_image_data['rs_normalized_heatmaps']\n",
    "heatmaps_ids = heatmap_image_data['heatmaps_ids']\n",
    "\n",
    "indexes = [int(x[5:]) for x in feature_df['Folder']]"
   ]
  },
  {
   "cell_type": "code",
   "execution_count": 7,
   "metadata": {},
   "outputs": [
    {
     "name": "stderr",
     "output_type": "stream",
     "text": [
      "100%|█████████████████████████████████████| 1363/1363 [00:00<00:00, 1689.67it/s]\n",
      "/tmp/ipykernel_8360/775314705.py:17: VisibleDeprecationWarning: Creating an ndarray from ragged nested sequences (which is a list-or-tuple of lists-or-tuples-or ndarrays with different lengths or shapes) is deprecated. If you meant to do this, you must specify 'dtype=object' when creating the ndarray.\n",
      "  features = np.array(features)\n"
     ]
    }
   ],
   "source": [
    "features = []\n",
    "scores = []\n",
    "df_is = []\n",
    "\n",
    "for i in tqdm(range(len(heatmaps_ids))):\n",
    "    df_i = indexes.index(heatmaps_ids[i])\n",
    "    df_is.append(df_i)\n",
    "    \n",
    "    # Collect the features\n",
    "    row = feature_df_normalized.iloc[df_i, :]\n",
    "    cur_features = row[['Depth', 'd']].to_numpy().astype(float)\n",
    "    features.append((heatmaps_images[i], cur_features))\n",
    "    \n",
    "    # Collect the y's\n",
    "    scores.append(row['phi'])\n",
    "\n",
    "features = np.array(features)\n",
    "scores = np.array(scores)"
   ]
  },
  {
   "cell_type": "code",
   "execution_count": 8,
   "metadata": {},
   "outputs": [
    {
     "name": "stdout",
     "output_type": "stream",
     "text": [
      "(817, 2) (817,) (273, 2) (273,) (273, 2) (273,)\n"
     ]
    }
   ],
   "source": [
    "# Split the training/vali/test dataset\n",
    "\n",
    "train_features, temp_features, train_scores, temp_scores = train_test_split(\n",
    "    features, scores, train_size=0.6, random_state=RANDOM_SEED)\n",
    "vali_features, test_features, vali_scores, test_scores = train_test_split(\n",
    "    temp_features, temp_scores, train_size=0.5, random_state=RANDOM_SEED)\n",
    "\n",
    "print(train_features.shape, train_scores.shape,\n",
    "      vali_features.shape, vali_scores.shape,\n",
    "      test_features.shape, test_scores.shape)"
   ]
  },
  {
   "cell_type": "code",
   "execution_count": 9,
   "metadata": {},
   "outputs": [],
   "source": [
    "# Collect the depth and density feature\n",
    "\n",
    "naive_train_features = np.stack([f[1] for f in train_features], axis=0)\n",
    "naive_vali_features = np.stack([f[1] for f in vali_features], axis=0)\n",
    "naive_test_features = np.stack([f[1] for f in test_features], axis=0)"
   ]
  },
  {
   "cell_type": "code",
   "execution_count": 10,
   "metadata": {},
   "outputs": [],
   "source": [
    "# # Grid search the regularization power over validation set (Lasso regression)\n",
    "\n",
    "# model = linear_model.Lasso()\n",
    "# params = [{'alpha': [0.00001, 0.0001, 0.001, 0.01, 0.1, 1, 10, 100, 1000, 10000]}]\n",
    "# clf = GridSearchCV(model, params, scoring='neg_mean_absolute_error')\n",
    "# clf.fit(naive_train_features, train_scores)\n",
    "\n",
    "# print(clf.cv_results_)\n",
    "# print(clf.best_params_)\n",
    "# print(clf.best_score_)"
   ]
  },
  {
   "cell_type": "code",
   "execution_count": 11,
   "metadata": {},
   "outputs": [
    {
     "data": {
      "image/png": "[encoded data removed]",
      "text/plain": [
       "<Figure size 432x288 with 1 Axes>"
      ]
     },
     "metadata": {},
     "output_type": "display_data"
    }
   ],
   "source": [
    "plt.scatter(naive_train_features[:, 0], train_scores)\n",
    "plt.title('Fiction Angle vs. Depth')\n",
    "plt.show()"
   ]
  },
  {
   "cell_type": "code",
   "execution_count": 12,
   "metadata": {},
   "outputs": [
    {
     "data": {
      "image/png": "[encoded data removed]",
      "text/plain": [
       "<Figure size 432x288 with 1 Axes>"
      ]
     },
     "metadata": {},
     "output_type": "display_data"
    }
   ],
   "source": [
    "plt.scatter(naive_train_features[:, 1], train_scores)\n",
    "plt.title('Fiction Angle vs. Density')\n",
    "plt.show()"
   ]
  },
  {
   "cell_type": "code",
   "execution_count": 13,
   "metadata": {},
   "outputs": [],
   "source": [
    "def eval_model_sklearn(model, x, y, title=''):\n",
    "    y_predict = model.predict(x)\n",
    "    \n",
    "    mse = metrics.mean_squared_error(y, y_predict)\n",
    "    mae = metrics.mean_absolute_error(y, y_predict)\n",
    "    \n",
    "    print('{}\\tMSE: {:.4f}  MAE: {:.4f}'.format(title, mse, mae))\n",
    "    \n",
    "    return mse, mae"
   ]
  },
  {
   "cell_type": "code",
   "execution_count": 14,
   "metadata": {},
   "outputs": [
    {
     "name": "stdout",
     "output_type": "stream",
     "text": [
      "train\tMSE: 54.3087  MAE: 6.4023\n",
      "vali\tMSE: 55.9063  MAE: 6.4895\n",
      "test\tMSE: 55.4905  MAE: 6.4782\n"
     ]
    },
    {
     "data": {
      "text/plain": [
       "(55.490540685578644, 6.4782056325531014)"
      ]
     },
     "execution_count": 14,
     "metadata": {},
     "output_type": "execute_result"
    }
   ],
   "source": [
    "# Train the best model\n",
    "best_model = linear_model.Lasso(alpha=0.001)\n",
    "best_model.fit(naive_train_features, train_scores)\n",
    "\n",
    "eval_model_sklearn(best_model, naive_train_features, train_scores, 'train')\n",
    "eval_model_sklearn(best_model, naive_vali_features, vali_scores, 'vali')\n",
    "eval_model_sklearn(best_model, naive_test_features, test_scores, 'test')"
   ]
  },
  {
   "cell_type": "markdown",
   "metadata": {},
   "source": [
    "## 2. Linear Model with Depth + Density + Simulation Output"
   ]
  },
  {
   "cell_type": "code",
   "execution_count": 61,
   "metadata": {},
   "outputs": [
    {
     "name": "stderr",
     "output_type": "stream",
     "text": [
      "100%|██████████████████████████████████████| 1363/1363 [00:01<00:00, 692.55it/s]\n",
      "/tmp/ipykernel_6026/54177860.py:15: VisibleDeprecationWarning: Creating an ndarray from ragged nested sequences (which is a list-or-tuple of lists-or-tuples-or ndarrays with different lengths or shapes) is deprecated. If you meant to do this, you must specify 'dtype=object' when creating the ndarray.\n",
      "  p_features = np.array(p_features)\n"
     ]
    }
   ],
   "source": [
    "p_features = []\n",
    "p_scores = []\n",
    "\n",
    "for i in tqdm(range(len(heatmaps_ids))):\n",
    "    df_i = indexes.index(heatmaps_ids[i])\n",
    "    \n",
    "    # Collect the features\n",
    "    row = feature_df_normalized.iloc[df_i, :]\n",
    "    cur_features = row[['Depth', 'd']].to_numpy().astype(float)\n",
    "    p_features.append((heatmaps_images[i], cur_features))\n",
    "    \n",
    "    # Collect the y's\n",
    "    p_scores.append(input_df.iloc[df_i, :]['phi'])\n",
    "\n",
    "p_features = np.array(p_features)\n",
    "p_scores = np.array(p_scores)"
   ]
  },
  {
   "cell_type": "code",
   "execution_count": 62,
   "metadata": {},
   "outputs": [
    {
     "data": {
      "text/plain": [
       "(array([149., 132., 123., 131., 125., 133., 132., 147., 129., 162.]),\n",
       " array([20.01541543, 22.5112304 , 25.00704537, 27.50286034, 29.99867532,\n",
       "        32.49449029, 34.99030526, 37.48612023, 39.9819352 , 42.47775017,\n",
       "        44.97356514]),\n",
       " <BarContainer object of 10 artists>)"
      ]
     },
     "execution_count": 62,
     "metadata": {},
     "output_type": "execute_result"
    },
    {
     "data": {
      "image/png": "[encoded data removed]",
      "text/plain": [
       "<Figure size 432x288 with 1 Axes>"
      ]
     },
     "metadata": {},
     "output_type": "display_data"
    }
   ],
   "source": [
    "plt.hist(p_scores)"
   ]
  },
  {
   "cell_type": "code",
   "execution_count": 63,
   "metadata": {},
   "outputs": [
    {
     "name": "stdout",
     "output_type": "stream",
     "text": [
      "(817, 2) (817,) (273, 2) (273,) (273, 2) (273,)\n"
     ]
    }
   ],
   "source": [
    "p_train_features, p_temp_features, p_train_scores, p_temp_scores = train_test_split(\n",
    "    p_features, p_scores, train_size=0.6, random_state=33)\n",
    "p_vali_features, p_test_features, p_vali_scores, p_test_scores = train_test_split(\n",
    "    p_temp_features, p_temp_scores, train_size=0.5, random_state=33)\n",
    "\n",
    "print(p_train_features.shape, p_train_scores.shape,\n",
    "      p_vali_features.shape, p_vali_scores.shape,\n",
    "      p_test_features.shape, p_test_scores.shape)"
   ]
  },
  {
   "cell_type": "code",
   "execution_count": 64,
   "metadata": {},
   "outputs": [
    {
     "name": "stderr",
     "output_type": "stream",
     "text": [
      "100%|███████████████████████████████████████| 817/817 [00:00<00:00, 2830.86it/s]\n",
      "100%|███████████████████████████████████████| 273/273 [00:00<00:00, 3313.14it/s]\n",
      "100%|███████████████████████████████████████| 273/273 [00:00<00:00, 3293.69it/s]\n"
     ]
    }
   ],
   "source": [
    "p_train_features_linear = []\n",
    "p_vali_features_linear = []\n",
    "p_test_features_linear = []\n",
    "\n",
    "for i in tqdm(range(p_train_features.shape[0])):\n",
    "    cur_feature = p_train_features[i][0].reshape(-1)\n",
    "    cur_feature = np.concatenate([cur_feature, p_train_features[i][1].reshape(-1)])\n",
    "    \n",
    "    p_train_features_linear.append(cur_feature)\n",
    "    \n",
    "for i in tqdm(range(p_vali_features.shape[0])):\n",
    "    cur_feature = p_vali_features[i][0].reshape(-1)\n",
    "    cur_feature = np.concatenate([cur_feature, p_vali_features[i][1].reshape(-1)])\n",
    "    \n",
    "    p_vali_features_linear.append(cur_feature)\n",
    "    \n",
    "for i in tqdm(range(p_test_features.shape[0])):\n",
    "    cur_feature = p_test_features[i][0].reshape(-1)\n",
    "    cur_feature = np.concatenate([cur_feature, p_test_features[i][1].reshape(-1)])\n",
    "    \n",
    "    p_test_features_linear.append(cur_feature)\n",
    "    \n",
    "p_train_features_linear = np.vstack(p_train_features_linear)\n",
    "p_vali_features_linear = np.vstack(p_vali_features_linear)\n",
    "p_test_features_linear = np.vstack(p_test_features_linear)"
   ]
  },
  {
   "cell_type": "code",
   "execution_count": 65,
   "metadata": {},
   "outputs": [],
   "source": [
    "# Normalize the features\n",
    "\n",
    "scaler = StandardScaler()\n",
    "scaler.fit(p_train_features_linear)\n",
    "\n",
    "p_train_features_linear_standardized = scaler.transform(p_train_features_linear)\n",
    "p_vali_features_linear_standardized = scaler.transform(p_vali_features_linear)\n",
    "p_test_features_linear_standardized = scaler.transform(p_test_features_linear)"
   ]
  },
  {
   "cell_type": "code",
   "execution_count": 66,
   "metadata": {},
   "outputs": [],
   "source": [
    "# Grid search the regularization power over validation set (lasso regression)\n",
    "\n",
    "# model = linear_model.Lasso()\n",
    "# params = [{'alpha': [0.00001, 0.0001, 0.001, 0.01, 0.1, 1, 10, 100, 1000, 10000]}]\n",
    "# clf = GridSearchCV(model, params, scoring='neg_mean_absolute_error')\n",
    "# clf.fit(p_train_features_linear_standardized, p_train_scores)\n",
    "\n",
    "# print(clf.cv_results_)\n",
    "# print(clf.best_params_)\n",
    "# print(clf.best_score_)"
   ]
  },
  {
   "cell_type": "code",
   "execution_count": 67,
   "metadata": {},
   "outputs": [
    {
     "name": "stderr",
     "output_type": "stream",
     "text": [
      "/nethome/zwang3049/jay/miniconda3/envs/nlp/lib/python3.8/site-packages/sklearn/linear_model/_coordinate_descent.py:530: ConvergenceWarning: Objective did not converge. You might want to increase the number of iterations. Duality gap: 1123.2625520919332, tolerance: 4.464060210010406\n",
      "  model = cd_fast.enet_coordinate_descent(\n"
     ]
    },
    {
     "data": {
      "text/plain": [
       "Lasso(alpha=0.0001)"
      ]
     },
     "execution_count": 67,
     "metadata": {},
     "output_type": "execute_result"
    }
   ],
   "source": [
    "model = linear_model.Lasso(alpha=0.0001)\n",
    "model.fit(p_train_features_linear_standardized, p_train_scores)"
   ]
  },
  {
   "cell_type": "markdown",
   "metadata": {},
   "source": [
    "Print out the evaluation metrics."
   ]
  },
  {
   "cell_type": "code",
   "execution_count": 45,
   "metadata": {},
   "outputs": [
    {
     "name": "stdout",
     "output_type": "stream",
     "text": [
      "train\tMSE: 2.3696  MAE: 1.1710\n",
      "vali\tMSE: 4.0477  MAE: 1.5523\n",
      "test\tMSE: 3.4700  MAE: 1.4179\n"
     ]
    },
    {
     "data": {
      "text/plain": [
       "(3.4699889445604755, 1.417873250088553)"
      ]
     },
     "execution_count": 45,
     "metadata": {},
     "output_type": "execute_result"
    }
   ],
   "source": [
    "eval_model_sklearn(model, p_train_features_linear_standardized, p_train_scores, 'train')\n",
    "eval_model_sklearn(model, p_vali_features_linear_standardized, p_vali_scores, 'vali')\n",
    "eval_model_sklearn(model, p_test_features_linear_standardized, p_test_scores, 'test')"
   ]
  },
  {
   "cell_type": "markdown",
   "metadata": {},
   "source": [
    "## 3. Fully Connected NN with Depth + Density"
   ]
  },
  {
   "cell_type": "code",
   "execution_count": 81,
   "metadata": {},
   "outputs": [],
   "source": [
    "device = torch.device('cuda' if torch.cuda.is_available() else 'cpu')"
   ]
  },
  {
   "cell_type": "code",
   "execution_count": 82,
   "metadata": {},
   "outputs": [],
   "source": [
    "class SimpleNN(nn.Module):\n",
    "    def __init__(self, feature_size):\n",
    "        super(SimpleNN, self).__init__()\n",
    "        \n",
    "        self.feature_size = feature_size\n",
    "        \n",
    "        self.fc1 = nn.Linear(self.feature_size, 128)\n",
    "        self.fc2 = nn.Linear(128, 64)\n",
    "        self.fc3 = nn.Linear(64, 1)\n",
    "\n",
    "    def forward(self, feature):\n",
    "        \n",
    "        x = F.relu(self.fc1(feature))\n",
    "        x = F.relu(self.fc2(x))\n",
    "        x = self.fc3(x)\n",
    "        \n",
    "        # x = F.softmax(x, dim=1)\n",
    "        return x"
   ]
  },
  {
   "cell_type": "code",
   "execution_count": 83,
   "metadata": {},
   "outputs": [
    {
     "name": "stderr",
     "output_type": "stream",
     "text": [
      "100%|█████████████████████████████████████| 817/817 [00:00<00:00, 285586.00it/s]\n",
      "100%|█████████████████████████████████████| 273/273 [00:00<00:00, 273019.79it/s]\n",
      "100%|█████████████████████████████████████| 273/273 [00:00<00:00, 278735.39it/s]\n"
     ]
    }
   ],
   "source": [
    "p_train_features_linear = []\n",
    "p_vali_features_linear = []\n",
    "p_test_features_linear = []\n",
    "\n",
    "for i in tqdm(range(p_train_features.shape[0])):\n",
    "    cur_feature = p_train_features[i][1].reshape(-1)\n",
    "    \n",
    "    p_train_features_linear.append(cur_feature)\n",
    "    \n",
    "for i in tqdm(range(p_vali_features.shape[0])):\n",
    "    cur_feature = p_vali_features[i][1].reshape(-1)\n",
    "    \n",
    "    p_vali_features_linear.append(cur_feature)\n",
    "    \n",
    "for i in tqdm(range(p_test_features.shape[0])):\n",
    "    cur_feature = p_test_features[i][1].reshape(-1)\n",
    "    \n",
    "    p_test_features_linear.append(cur_feature)\n",
    "    \n",
    "p_train_features_linear = np.vstack(p_train_features_linear)\n",
    "p_vali_features_linear = np.vstack(p_vali_features_linear)\n",
    "p_test_features_linear = np.vstack(p_test_features_linear)"
   ]
  },
  {
   "cell_type": "code",
   "execution_count": 84,
   "metadata": {},
   "outputs": [
    {
     "data": {
      "text/plain": [
       "tensor([0.0205], device='cuda:0', grad_fn=<AddBackward0>)"
      ]
     },
     "execution_count": 84,
     "metadata": {},
     "output_type": "execute_result"
    }
   ],
   "source": [
    "model = SimpleNN(p_train_features_linear_standardized.shape[1])\n",
    "\n",
    "feature = torch.tensor(p_train_features_linear_standardized[0, :]).float().to(device)\n",
    "model = model.to(device)\n",
    "model(feature)"
   ]
  },
  {
   "cell_type": "code",
   "execution_count": 85,
   "metadata": {},
   "outputs": [],
   "source": [
    "class SimulationDataset(Dataset):\n",
    "\n",
    "    def __init__(self, features, labels):\n",
    "        self.features = features\n",
    "        self.labels = labels\n",
    "\n",
    "    def __len__(self):\n",
    "        return len(self.labels)\n",
    "\n",
    "    def __getitem__(self, idx):\n",
    "        if torch.is_tensor(idx):\n",
    "            idx = idx.tolist()\n",
    "\n",
    "        cur_feature = torch.tensor(self.features[idx]).float()\n",
    "        label = torch.tensor([self.labels[idx]]).float()\n",
    "        \n",
    "        sample = {'feature': cur_feature, 'label': label}\n",
    "\n",
    "        return sample"
   ]
  },
  {
   "cell_type": "code",
   "execution_count": 91,
   "metadata": {},
   "outputs": [],
   "source": [
    "def train_one_epoch_nn(train_dataloader, epoch, print_every_ter=None, verbose=True,\n",
    "                       selected_indexes=None):\n",
    "    losses = []\n",
    "    all_losses = []\n",
    "    y_predict = []\n",
    "    y_true = []\n",
    "    for i, data in enumerate(train_dataloader, 0):\n",
    "        cur_features, cur_labels = (data['feature'].to(device),\n",
    "                                    data['label'].to(device))\n",
    "        \n",
    "        # Only use depth and d here\n",
    "        if selected_indexes != None:\n",
    "            cur_features = cur_features[:, selected_indexes]\n",
    "\n",
    "        # zero the parameter gradients\n",
    "        optimizer.zero_grad()\n",
    "\n",
    "        # forward + backward + optimize\n",
    "        outputs = model(cur_features)\n",
    "        loss = criterion(outputs, cur_labels)\n",
    "        loss.backward()\n",
    "        optimizer.step()\n",
    "        \n",
    "        y_predict.extend(outputs.tolist())\n",
    "        y_true.extend(cur_labels.tolist())\n",
    "\n",
    "        # print statistics\n",
    "        losses.append(loss.item())\n",
    "        \n",
    "        if print_every_ter != None:\n",
    "            if i % print_every_ter == print_every_ter - 1:\n",
    "                print('(epoch {}, iter {}) avg loss: {:3f}'.format(epoch + 1,\n",
    "                                                                   i + 1,\n",
    "                                                                   np.mean(losses)))\n",
    "                all_losses.extend(losses)\n",
    "                losses = []\n",
    "        else:\n",
    "            all_losses.append(loss.item())\n",
    "    \n",
    "    # Evaluate the accuracy\n",
    "    mse = metrics.mean_squared_error(y_true, y_predict)\n",
    "    avg_loss = np.mean(all_losses)\n",
    "    \n",
    "    if verbose:\n",
    "        print('Epoch {}: training acc: {:.4f} avg loss: {:.4f}'.format(epoch, acc, avg_loss))\n",
    "\n",
    "    return mse, avg_loss"
   ]
  },
  {
   "cell_type": "code",
   "execution_count": 92,
   "metadata": {},
   "outputs": [],
   "source": [
    "def eval_model_nn(test_dataloader, model, selected_indexes=None, title='', verbose=False):\n",
    "    losses = []\n",
    "    y_predict = []\n",
    "    y_true = []\n",
    "\n",
    "    for i, data in enumerate(test_dataloader, 0):\n",
    "        cur_features, cur_labels = (data['feature'].to(device),\n",
    "                                    data['label'].to(device))\n",
    "        \n",
    "        # Only use depth and d here\n",
    "        if selected_indexes != None:\n",
    "            cur_features = cur_features[:, selected_indexes]\n",
    "\n",
    "        # forward + backward + optimize\n",
    "        outputs = model(cur_features)\n",
    "        loss = criterion(outputs, cur_labels)\n",
    "        losses.append(loss.item())\n",
    "\n",
    "        y_predict.extend(outputs.tolist())\n",
    "        y_true.extend(cur_labels.tolist())\n",
    "    \n",
    "    mse = metrics.mean_squared_error(y_true, y_predict)\n",
    "    mae = metrics.mean_absolute_error(y_true, y_predict)\n",
    "    avg_loss = np.mean(losses)\n",
    "    \n",
    "    if verbose:\n",
    "        print('{}\\tMSE: {:.4f}  MAE: {:.4f}'.format(title, mse, mae))\n",
    "    \n",
    "    return mse, mae"
   ]
  },
  {
   "cell_type": "code",
   "execution_count": 93,
   "metadata": {},
   "outputs": [],
   "source": [
    "# Normalize the features\n",
    "\n",
    "scaler = StandardScaler()\n",
    "scaler.fit(p_train_features_linear)\n",
    "\n",
    "p_train_features_linear_standardized = scaler.transform(p_train_features_linear)\n",
    "p_vali_features_linear_standardized = scaler.transform(p_vali_features_linear)\n",
    "p_test_features_linear_standardized = scaler.transform(p_test_features_linear)"
   ]
  },
  {
   "cell_type": "code",
   "execution_count": 94,
   "metadata": {},
   "outputs": [],
   "source": [
    "train_dataset = SimulationDataset(p_train_features_linear_standardized, p_train_scores)\n",
    "vali_dataset = SimulationDataset(p_vali_features_linear_standardized, p_vali_scores)\n",
    "test_dataset = SimulationDataset(p_test_features_linear_standardized, p_test_scores)\n",
    "\n",
    "train_dataloader = DataLoader(train_dataset, batch_size=64, shuffle=True)\n",
    "vali_dataloader = DataLoader(vali_dataset, batch_size=64, shuffle=True)\n",
    "test_dataloader = DataLoader(test_dataset, batch_size=64, shuffle=True)\n",
    "\n",
    "criterion = nn.MSELoss()"
   ]
  },
  {
   "cell_type": "code",
   "execution_count": 95,
   "metadata": {},
   "outputs": [
    {
     "name": "stderr",
     "output_type": "stream",
     "text": [
      " 78%|███████████████████████████████▉         | 117/150 [00:18<00:05,  6.17it/s]"
     ]
    },
    {
     "name": "stdout",
     "output_type": "stream",
     "text": [
      "Done!\n"
     ]
    },
    {
     "name": "stderr",
     "output_type": "stream",
     "text": [
      "\n"
     ]
    }
   ],
   "source": [
    "PATIENCE = 30\n",
    "epochs = 150\n",
    "\n",
    "\n",
    "model = SimpleNN(p_train_features_linear_standardized.shape[1]).to(device)\n",
    "\n",
    "criterion = nn.MSELoss()\n",
    "lr = 1e-3\n",
    "optimizer = torch.optim.Adam(model.parameters(), lr=lr)\n",
    "\n",
    "train_mses = []\n",
    "train_avg_losses = []\n",
    "\n",
    "val_mses = []\n",
    "val_avg_losses = []\n",
    "\n",
    "best_loss = np.inf\n",
    "best_mse = np.inf\n",
    "waited = 0\n",
    "best_model = None\n",
    "\n",
    "for e in tqdm(range(epochs)):\n",
    "    mse, avg_loss = train_one_epoch_nn(train_dataloader, e, verbose=False)\n",
    "    train_mses.append(mse)\n",
    "    train_avg_losses.append(avg_loss)\n",
    "    \n",
    "    # Test on the validation set\n",
    "    val_mse, val_avg_loss = eval_model_nn(vali_dataloader, model)\n",
    "    val_mses.append(val_mse)\n",
    "    val_avg_losses.append(val_avg_loss)\n",
    "    \n",
    "    if val_mse < best_mse:\n",
    "        # best_loss = val_avg_loss\n",
    "        best_mse = val_mse\n",
    "        waited = 0\n",
    "        best_model = copy.deepcopy(model)\n",
    "    else:\n",
    "        waited += 1\n",
    "    \n",
    "    if waited == PATIENCE + 1:\n",
    "        break\n",
    "\n",
    "print('Done!')"
   ]
  },
  {
   "cell_type": "code",
   "execution_count": 96,
   "metadata": {},
   "outputs": [
    {
     "name": "stdout",
     "output_type": "stream",
     "text": [
      "\tMSE: 54.0189  MAE: 6.3725\n"
     ]
    },
    {
     "data": {
      "text/plain": [
       "(54.018903620913534, 6.372514267154539)"
      ]
     },
     "execution_count": 96,
     "metadata": {},
     "output_type": "execute_result"
    }
   ],
   "source": [
    "eval_model_nn(train_dataloader, best_model, verbose=True)"
   ]
  },
  {
   "cell_type": "code",
   "execution_count": 97,
   "metadata": {},
   "outputs": [
    {
     "name": "stdout",
     "output_type": "stream",
     "text": [
      "\tMSE: 56.1419  MAE: 6.5234\n"
     ]
    },
    {
     "data": {
      "text/plain": [
       "(56.14192799422702, 6.523375165331495)"
      ]
     },
     "execution_count": 97,
     "metadata": {},
     "output_type": "execute_result"
    }
   ],
   "source": [
    "eval_model_nn(vali_dataloader, best_model, verbose=True)"
   ]
  },
  {
   "cell_type": "code",
   "execution_count": 98,
   "metadata": {},
   "outputs": [
    {
     "name": "stdout",
     "output_type": "stream",
     "text": [
      "\tMSE: 55.7965  MAE: 6.5283\n"
     ]
    },
    {
     "data": {
      "text/plain": [
       "(55.796476332984035, 6.528306185544192)"
      ]
     },
     "execution_count": 98,
     "metadata": {},
     "output_type": "execute_result"
    }
   ],
   "source": [
    "eval_model_nn(test_dataloader, best_model, verbose=True)"
   ]
  },
  {
   "cell_type": "markdown",
   "metadata": {},
   "source": [
    "## 4. Fully Connected NN with Depth + Density + Simulation Output"
   ]
  },
  {
   "cell_type": "code",
   "execution_count": 104,
   "metadata": {},
   "outputs": [
    {
     "name": "stderr",
     "output_type": "stream",
     "text": [
      "100%|███████████████████████████████████████| 817/817 [00:00<00:00, 3250.52it/s]\n",
      "100%|███████████████████████████████████████| 273/273 [00:00<00:00, 3354.11it/s]\n",
      "100%|███████████████████████████████████████| 273/273 [00:00<00:00, 3405.59it/s]\n"
     ]
    }
   ],
   "source": [
    "p_train_features_linear = []\n",
    "p_vali_features_linear = []\n",
    "p_test_features_linear = []\n",
    "\n",
    "for i in tqdm(range(p_train_features.shape[0])):\n",
    "    cur_feature = p_train_features[i][0].reshape(-1)\n",
    "    cur_feature = np.concatenate([cur_feature, p_train_features[i][1].reshape(-1)])\n",
    "    \n",
    "    p_train_features_linear.append(cur_feature)\n",
    "    \n",
    "for i in tqdm(range(p_vali_features.shape[0])):\n",
    "    cur_feature = p_vali_features[i][0].reshape(-1)\n",
    "    cur_feature = np.concatenate([cur_feature, p_vali_features[i][1].reshape(-1)])\n",
    "    \n",
    "    p_vali_features_linear.append(cur_feature)\n",
    "    \n",
    "for i in tqdm(range(p_test_features.shape[0])):\n",
    "    cur_feature = p_test_features[i][0].reshape(-1)\n",
    "    cur_feature = np.concatenate([cur_feature, p_test_features[i][1].reshape(-1)])\n",
    "    \n",
    "    p_test_features_linear.append(cur_feature)\n",
    "    \n",
    "p_train_features_linear = np.vstack(p_train_features_linear)\n",
    "p_vali_features_linear = np.vstack(p_vali_features_linear)\n",
    "p_test_features_linear = np.vstack(p_test_features_linear)"
   ]
  },
  {
   "cell_type": "code",
   "execution_count": 106,
   "metadata": {},
   "outputs": [],
   "source": [
    "# Normalize the features\n",
    "\n",
    "scaler = StandardScaler()\n",
    "scaler.fit(p_train_features_linear)\n",
    "\n",
    "p_train_features_linear_standardized = scaler.transform(p_train_features_linear)\n",
    "p_vali_features_linear_standardized = scaler.transform(p_vali_features_linear)\n",
    "p_test_features_linear_standardized = scaler.transform(p_test_features_linear)"
   ]
  },
  {
   "cell_type": "code",
   "execution_count": 108,
   "metadata": {},
   "outputs": [],
   "source": [
    "train_dataset = SimulationDataset(p_train_features_linear_standardized, p_train_scores)\n",
    "vali_dataset = SimulationDataset(p_vali_features_linear_standardized, p_vali_scores)\n",
    "test_dataset = SimulationDataset(p_test_features_linear_standardized, p_test_scores)\n",
    "\n",
    "train_dataloader = DataLoader(train_dataset, batch_size=64, shuffle=True)\n",
    "vali_dataloader = DataLoader(vali_dataset, batch_size=64, shuffle=True)\n",
    "test_dataloader = DataLoader(test_dataset, batch_size=64, shuffle=True)\n",
    "\n",
    "criterion = nn.MSELoss()"
   ]
  },
  {
   "cell_type": "code",
   "execution_count": 113,
   "metadata": {},
   "outputs": [
    {
     "name": "stderr",
     "output_type": "stream",
     "text": [
      "100%|█████████████████████████████████████████| 150/150 [00:44<00:00,  3.39it/s]"
     ]
    },
    {
     "name": "stdout",
     "output_type": "stream",
     "text": [
      "Done!\n"
     ]
    },
    {
     "name": "stderr",
     "output_type": "stream",
     "text": [
      "\n"
     ]
    }
   ],
   "source": [
    "PATIENCE = 50\n",
    "epochs = 150\n",
    "\n",
    "\n",
    "model = SimpleNN(p_train_features_linear_standardized.shape[1]).to(device)\n",
    "\n",
    "criterion = nn.MSELoss()\n",
    "lr = 1e-3\n",
    "optimizer = torch.optim.Adam(model.parameters(), lr=lr)\n",
    "\n",
    "train_mses = []\n",
    "train_avg_losses = []\n",
    "\n",
    "val_mses = []\n",
    "val_avg_losses = []\n",
    "\n",
    "best_loss = np.inf\n",
    "best_mse = np.inf\n",
    "waited = 0\n",
    "best_model = None\n",
    "\n",
    "for e in tqdm(range(epochs)):\n",
    "    mse, avg_loss = train_one_epoch_nn(train_dataloader, e, verbose=False)\n",
    "    train_mses.append(mse)\n",
    "    train_avg_losses.append(avg_loss)\n",
    "    \n",
    "    # Test on the validation set\n",
    "    val_mse, val_avg_loss = eval_model_nn(vali_dataloader, model)\n",
    "    val_mses.append(val_mse)\n",
    "    val_avg_losses.append(val_avg_loss)\n",
    "    \n",
    "    if val_mse < best_mse:\n",
    "        # best_loss = val_avg_loss\n",
    "        best_mse = val_mse\n",
    "        waited = 0\n",
    "        best_model = copy.deepcopy(model)\n",
    "    else:\n",
    "        waited += 1\n",
    "    \n",
    "    if waited == PATIENCE + 1:\n",
    "        break\n",
    "\n",
    "print('Done!')"
   ]
  },
  {
   "cell_type": "code",
   "execution_count": 114,
   "metadata": {},
   "outputs": [
    {
     "name": "stdout",
     "output_type": "stream",
     "text": [
      "\tMSE: 0.8881  MAE: 0.6991\n"
     ]
    },
    {
     "data": {
      "text/plain": [
       "(0.8880625077635512, 0.6990513865775548)"
      ]
     },
     "execution_count": 114,
     "metadata": {},
     "output_type": "execute_result"
    }
   ],
   "source": [
    "eval_model_nn(train_dataloader, best_model, verbose=True)"
   ]
  },
  {
   "cell_type": "code",
   "execution_count": 115,
   "metadata": {},
   "outputs": [
    {
     "name": "stdout",
     "output_type": "stream",
     "text": [
      "\tMSE: 1.0109  MAE: 0.7809\n"
     ]
    },
    {
     "data": {
      "text/plain": [
       "(1.0109219650569021, 0.7808815393692408)"
      ]
     },
     "execution_count": 115,
     "metadata": {},
     "output_type": "execute_result"
    }
   ],
   "source": [
    "eval_model_nn(vali_dataloader, best_model, verbose=True)"
   ]
  },
  {
   "cell_type": "code",
   "execution_count": 116,
   "metadata": {},
   "outputs": [
    {
     "name": "stdout",
     "output_type": "stream",
     "text": [
      "\tMSE: 1.2035  MAE: 0.8247\n"
     ]
    },
    {
     "data": {
      "text/plain": [
       "(1.20346068942043, 0.8247013231773517)"
      ]
     },
     "execution_count": 116,
     "metadata": {},
     "output_type": "execute_result"
    }
   ],
   "source": [
    "eval_model_nn(test_dataloader, best_model, verbose=True)"
   ]
  },
  {
   "cell_type": "markdown",
   "metadata": {},
   "source": [
    "## 5. CNN Model with only Simulation Images"
   ]
  },
  {
   "cell_type": "code",
   "execution_count": 151,
   "metadata": {},
   "outputs": [],
   "source": [
    "class SimpleCNN(nn.Module):\n",
    "    def __init__(self, additional_feature_size):\n",
    "        super(SimpleCNN, self).__init__()\n",
    "        self.additional_feature_size = additional_feature_size\n",
    "        self.conv1 = nn.Conv2d(1, 6, 3)     \n",
    "        self.conv2 = nn.Conv2d(6, 6, 3)\n",
    "        self.pool1= nn.MaxPool2d(2, 2)\n",
    "        \n",
    "        self.conv3 = nn.Conv2d(6, 6, 3)\n",
    "        self.conv4 = nn.Conv2d(6, 6, 3)\n",
    "        self.pool2 = nn.MaxPool2d(2, 2)\n",
    "\n",
    "        self.conv5 = nn.Conv2d(6, 6, 3)\n",
    "        self.conv6 = nn.Conv2d(6, 6, 3)\n",
    "        self.pool3 = nn.MaxPool2d(2, 2)\n",
    "        \n",
    "        self.fc1 = nn.Linear(6 * 28 * 28 + self.additional_feature_size, 120)\n",
    "        self.fc2 = nn.Linear(120, 84)\n",
    "        self.fc3 = nn.Linear(84, 1)\n",
    "\n",
    "    def forward(self, image, feature):\n",
    "        image = image.view(-1, 1, 256, 256)\n",
    "        \n",
    "        # Passing the CNN layers\n",
    "        x = F.relu(self.conv1(image))\n",
    "        x = self.pool1(F.relu(self.conv2(x)))\n",
    "        \n",
    "        x = F.relu(self.conv3(x))\n",
    "        x = self.pool2(F.relu(self.conv4(x)))\n",
    "        \n",
    "        x = F.relu(self.conv5(x))\n",
    "        x = self.pool3(F.relu(self.conv6(x)))\n",
    "                \n",
    "        x = x.view(-1, 6 * 28 * 28)\n",
    "        \n",
    "        # Concatenate with extra features\n",
    "        x = torch.cat((x, feature), dim=1)\n",
    "        \n",
    "        x = F.relu(self.fc1(x))\n",
    "        x = F.relu(self.fc2(x))\n",
    "        x = self.fc3(x)\n",
    "        \n",
    "        # x = F.softmax(x, dim=1)\n",
    "        return x"
   ]
  },
  {
   "cell_type": "code",
   "execution_count": 152,
   "metadata": {},
   "outputs": [],
   "source": [
    "class HeatmapDataset(Dataset):\n",
    "\n",
    "    def __init__(self, features, labels):\n",
    "        self.features = features\n",
    "        self.labels = labels\n",
    "\n",
    "    def __len__(self):\n",
    "        return len(self.labels)\n",
    "\n",
    "    def __getitem__(self, idx):\n",
    "        if torch.is_tensor(idx):\n",
    "            idx = idx.tolist()\n",
    "\n",
    "        cur_feature = self.features[idx]\n",
    "        # label = nn.functional.one_hot(torch.tensor(labels[idx]), num_classes=3)\n",
    "        label = torch.tensor([self.labels[idx]]).float()\n",
    "        \n",
    "        # Load image and extra feature\n",
    "        image = torch.tensor(cur_feature[0]).float()\n",
    "        extra_feature = torch.tensor(cur_feature[1]).float()\n",
    "        \n",
    "        # Transform image\n",
    "        image = image.view((1, 256, 256))\n",
    "        \n",
    "        sample = {'image': image, 'feature': extra_feature, 'label': label}\n",
    "\n",
    "        return sample"
   ]
  },
  {
   "cell_type": "code",
   "execution_count": 154,
   "metadata": {},
   "outputs": [
    {
     "name": "stderr",
     "output_type": "stream",
     "text": [
      "100%|██████████| 1363/1363 [00:00<00:00, 1592.57it/s]\n",
      "/nethome/zwang3049/jay/miniconda3/envs/nlp/lib/python3.7/site-packages/ipykernel_launcher.py:19: VisibleDeprecationWarning: Creating an ndarray from ragged nested sequences (which is a list-or-tuple of lists-or-tuples-or ndarrays with different lengths or shapes) is deprecated. If you meant to do this, you must specify 'dtype=object' when creating the ndarray\n"
     ]
    }
   ],
   "source": [
    "heatmap_image_data = np.load('./data/displayment-heatmaps-normalized-resized.npz')\n",
    "heatmaps_images = heatmap_image_data['rs_normalized_heatmaps']\n",
    "heatmaps_ids = heatmap_image_data['heatmaps_ids']\n",
    "\n",
    "indexes = [int(x[5:]) for x in feature_df['Folder']]\n",
    "\n",
    "features = []\n",
    "labels = []\n",
    "\n",
    "for i in tqdm(range(len(heatmaps_ids))):\n",
    "    df_i = indexes.index(heatmaps_ids[i])\n",
    "    \n",
    "    # Collect the features\n",
    "    row = feature_df_normalized.iloc[df_i, :]\n",
    "    cur_features = row[['Depth', 'd']].to_numpy().astype(float)\n",
    "    features.append((heatmaps_images[i], cur_features))        \n",
    "    labels.append(row['phi'])\n",
    "\n",
    "features = np.array(features)\n",
    "labels = np.array(labels)"
   ]
  },
  {
   "cell_type": "code",
   "execution_count": 156,
   "metadata": {},
   "outputs": [
    {
     "data": {
      "text/plain": [
       "tensor([[-0.0850]], grad_fn=<AddmmBackward>)"
      ]
     },
     "execution_count": 156,
     "metadata": {},
     "output_type": "execute_result"
    }
   ],
   "source": [
    "model = SimpleCNN(2)\n",
    "image = torch.tensor([features[0][0]]).float()\n",
    "feature = torch.tensor([features[0][1]]).float()\n",
    "model(image, feature)"
   ]
  },
  {
   "cell_type": "code",
   "execution_count": 157,
   "metadata": {},
   "outputs": [
    {
     "name": "stdout",
     "output_type": "stream",
     "text": [
      "(817, 2) (817,) (273, 2) (273,) (273, 2) (273,)\n"
     ]
    }
   ],
   "source": [
    "train_features, temp_features, train_scores, temp_scores = train_test_split(\n",
    "    features, scores, train_size=0.6, random_state=RANDOM_SEED)\n",
    "vali_features, test_features, vali_scores, test_scores = train_test_split(\n",
    "    temp_features, temp_scores, train_size=0.5, random_state=RANDOM_SEED)\n",
    "\n",
    "print(train_features.shape, train_scores.shape,\n",
    "      vali_features.shape, vali_scores.shape,\n",
    "      test_features.shape, test_scores.shape)"
   ]
  },
  {
   "cell_type": "code",
   "execution_count": 185,
   "metadata": {},
   "outputs": [],
   "source": [
    "train_dataset = HeatmapDataset(train_features, train_scores)\n",
    "vali_dataset = HeatmapDataset(vali_features, vali_scores)\n",
    "test_dataset = HeatmapDataset(test_features, test_scores)\n",
    "\n",
    "train_dataloader = DataLoader(train_dataset, batch_size=8, shuffle=True)\n",
    "vali_dataloader = DataLoader(vali_dataset, batch_size=8, shuffle=True)\n",
    "test_dataloader = DataLoader(test_dataset, batch_size=8, shuffle=True)"
   ]
  },
  {
   "cell_type": "code",
   "execution_count": 186,
   "metadata": {},
   "outputs": [],
   "source": [
    "def train_one_epoch(train_dataloader, epoch, print_every_ter=None, verbose=True,\n",
    "                   selected_indexes=None):\n",
    "    losses = []\n",
    "    all_losses = []\n",
    "    y_predict = []\n",
    "    y_true = []\n",
    "    for i, data in enumerate(train_dataloader, 0):\n",
    "        cur_images, cur_features, cur_labels = (data['image'].to(device),\n",
    "                                                data['feature'].to(device),\n",
    "                                                data['label'].to(device))\n",
    "        \n",
    "        # Only use depth and d here\n",
    "        if selected_indexes != None:\n",
    "            cur_features = cur_features[:, selected_indexes]\n",
    "\n",
    "        # zero the parameter gradients\n",
    "        optimizer.zero_grad()\n",
    "\n",
    "        # forward + backward + optimize\n",
    "        outputs = model(cur_images, cur_features)\n",
    "        loss = criterion(outputs, cur_labels)\n",
    "        loss.backward()\n",
    "        optimizer.step()\n",
    "        \n",
    "        y_predict.extend(outputs.tolist())\n",
    "        y_true.extend(cur_labels.tolist())\n",
    "\n",
    "        # print statistics\n",
    "        losses.append(loss.item())\n",
    "        \n",
    "        if print_every_ter != None:\n",
    "            if i % print_every_ter == print_every_ter - 1:\n",
    "                print('(epoch {}, iter {}) avg loss: {:3f}'.format(epoch + 1,\n",
    "                                                                   i + 1,\n",
    "                                                                   np.mean(losses)))\n",
    "                all_losses.extend(losses)\n",
    "                losses = []\n",
    "        else:\n",
    "            all_losses.append(loss.item())\n",
    "    \n",
    "    # Evaluate the accuracy\n",
    "    mse = metrics.mean_squared_error(y_true, y_predict)\n",
    "    avg_loss = np.mean(all_losses)\n",
    "    \n",
    "    if verbose:\n",
    "        print('Epoch {}: training acc: {:.4f} avg loss: {:.4f}'.format(epoch, acc, avg_loss))\n",
    "\n",
    "    return mse, avg_loss"
   ]
  },
  {
   "cell_type": "code",
   "execution_count": 187,
   "metadata": {},
   "outputs": [],
   "source": [
    "def eval_model(test_dataloader, model, selected_indexes=None, verbose=False, title=''):\n",
    "    losses = []\n",
    "    y_predict = []\n",
    "    y_true = []\n",
    "\n",
    "    for i, data in enumerate(test_dataloader, 0):\n",
    "        cur_images, cur_features, cur_labels = (data['image'].to(device),\n",
    "                                                data['feature'].to(device),\n",
    "                                                data['label'].to(device))\n",
    "        \n",
    "        # Only use depth and d here\n",
    "        if selected_indexes != None:\n",
    "            cur_features = cur_features[:, selected_indexes]\n",
    "\n",
    "        # forward + backward + optimize\n",
    "        outputs = model(cur_images, cur_features)\n",
    "        loss = criterion(outputs, cur_labels)\n",
    "        losses.append(loss.item())\n",
    "\n",
    "        y_predict.extend(outputs.tolist())\n",
    "        y_true.extend(cur_labels.tolist())\n",
    "    \n",
    "    mse = metrics.mean_squared_error(y_true, y_predict)\n",
    "    mae = metrics.mean_absolute_error(y_true, y_predict)\n",
    "    avg_loss = np.mean(losses)\n",
    "    \n",
    "    if verbose:\n",
    "        print('{}\\tMSE: {:.4f}  MAE: {:.4f}'.format(title, mse, mae))\n",
    "    \n",
    "    return mse, mae\n",
    "    "
   ]
  },
  {
   "cell_type": "code",
   "execution_count": 204,
   "metadata": {},
   "outputs": [
    {
     "name": "stderr",
     "output_type": "stream",
     "text": [
      "  0%|          | 0/400 [00:00<?, ?it/s]"
     ]
    },
    {
     "name": "stdout",
     "output_type": "stream",
     "text": [
      "Using device: cuda\n"
     ]
    },
    {
     "name": "stderr",
     "output_type": "stream",
     "text": [
      "100%|██████████| 400/400 [06:59<00:00,  1.05s/it]"
     ]
    },
    {
     "name": "stdout",
     "output_type": "stream",
     "text": [
      "Done!\n"
     ]
    },
    {
     "name": "stderr",
     "output_type": "stream",
     "text": [
      "\n"
     ]
    }
   ],
   "source": [
    "PATIENCE = 400\n",
    "epochs = 400\n",
    "\n",
    "device = torch.device('cuda' if torch.cuda.is_available() else 'cpu')\n",
    "print('Using device:', device)\n",
    "\n",
    "selected_indexes = []\n",
    "\n",
    "model = SimpleCNN(len(selected_indexes)).to(device)\n",
    "\n",
    "criterion = nn.MSELoss()\n",
    "lr = 1e-3\n",
    "optimizer = torch.optim.Adam(model.parameters(), lr=lr)\n",
    "\n",
    "train_mses = []\n",
    "train_avg_losses = []\n",
    "\n",
    "val_mses = []\n",
    "val_avg_losses = []\n",
    "\n",
    "best_loss = np.inf\n",
    "best_mse = np.inf\n",
    "waited = 0\n",
    "best_model = None\n",
    "\n",
    "for e in tqdm(range(epochs)):\n",
    "    mse, avg_loss = train_one_epoch(train_dataloader, e, verbose=False,\n",
    "                                    selected_indexes=selected_indexes)\n",
    "    train_mses.append(mse)\n",
    "    train_avg_losses.append(avg_loss)\n",
    "    \n",
    "    # Test on the validation set\n",
    "    val_mse, val_avg_loss = eval_model(vali_dataloader, model,\n",
    "                                       selected_indexes=selected_indexes)\n",
    "    val_mses.append(val_mse)\n",
    "    val_avg_losses.append(val_avg_loss)\n",
    "    \n",
    "    if val_mse < best_mse:\n",
    "        # best_loss = val_avg_loss\n",
    "        best_mse = val_mse\n",
    "        waited = 0\n",
    "        best_model = copy.deepcopy(model)\n",
    "    else:\n",
    "        waited += 1\n",
    "    \n",
    "    if waited == PATIENCE + 1:\n",
    "        break\n",
    "\n",
    "print('Done!')"
   ]
  },
  {
   "cell_type": "code",
   "execution_count": 205,
   "metadata": {},
   "outputs": [
    {
     "data": {
      "image/png": "[encoded data removed]",
      "text/plain": [
       "<Figure size 432x288 with 1 Axes>"
      ]
     },
     "metadata": {},
     "output_type": "display_data"
    }
   ],
   "source": [
    "plt.plot(val_mses)\n",
    "plt.show()"
   ]
  },
  {
   "cell_type": "code",
   "execution_count": 207,
   "metadata": {},
   "outputs": [
    {
     "name": "stdout",
     "output_type": "stream",
     "text": [
      "train\tMSE: 0.2808  MAE: 0.3888\n",
      "vali\tMSE: 0.3512  MAE: 0.4440\n",
      "test\tMSE: 0.5284  MAE: 0.5035\n"
     ]
    },
    {
     "data": {
      "text/plain": [
       "(0.5283550406823122, 0.503521231067923)"
      ]
     },
     "execution_count": 207,
     "metadata": {},
     "output_type": "execute_result"
    }
   ],
   "source": [
    "selected_indexes = []\n",
    "eval_model(train_dataloader, best_model, selected_indexes=selected_indexes,\n",
    "           verbose=True, title='train')\n",
    "\n",
    "eval_model(vali_dataloader, best_model, selected_indexes=selected_indexes,\n",
    "           verbose=True, title='vali')\n",
    "\n",
    "eval_model(test_dataloader, best_model, selected_indexes=selected_indexes,\n",
    "           verbose=True, title='test')"
   ]
  },
  {
   "cell_type": "markdown",
   "metadata": {},
   "source": [
    "## 6. CNN Model with Simulation Image + Depth + Density"
   ]
  },
  {
   "cell_type": "code",
   "execution_count": 192,
   "metadata": {},
   "outputs": [
    {
     "name": "stderr",
     "output_type": "stream",
     "text": [
      "  0%|          | 0/400 [00:00<?, ?it/s]"
     ]
    },
    {
     "name": "stdout",
     "output_type": "stream",
     "text": [
      "Using device: cuda\n"
     ]
    },
    {
     "name": "stderr",
     "output_type": "stream",
     "text": [
      "100%|██████████| 400/400 [07:05<00:00,  1.06s/it]"
     ]
    },
    {
     "name": "stdout",
     "output_type": "stream",
     "text": [
      "Done!\n"
     ]
    },
    {
     "name": "stderr",
     "output_type": "stream",
     "text": [
      "\n"
     ]
    }
   ],
   "source": [
    "PATIENCE = 400\n",
    "epochs = 400\n",
    "\n",
    "device = torch.device('cuda' if torch.cuda.is_available() else 'cpu')\n",
    "print('Using device:', device)\n",
    "\n",
    "selected_indexes = [0, 1]\n",
    "\n",
    "model = SimpleCNN(len(selected_indexes)).to(device)\n",
    "\n",
    "criterion = nn.MSELoss()\n",
    "lr = 1e-3\n",
    "optimizer = torch.optim.Adam(model.parameters(), lr=lr)\n",
    "\n",
    "train_mses = []\n",
    "train_avg_losses = []\n",
    "\n",
    "val_mses = []\n",
    "val_avg_losses = []\n",
    "\n",
    "best_loss = np.inf\n",
    "best_mse = np.inf\n",
    "waited = 0\n",
    "best_model = None\n",
    "\n",
    "for e in tqdm(range(epochs)):\n",
    "    mse, avg_loss = train_one_epoch(train_dataloader, e, verbose=False,\n",
    "                                    selected_indexes=selected_indexes)\n",
    "    train_mses.append(mse)\n",
    "    train_avg_losses.append(avg_loss)\n",
    "    \n",
    "    # Test on the validation set\n",
    "    val_mse, val_avg_loss = eval_model(vali_dataloader, model,\n",
    "                                       selected_indexes=selected_indexes)\n",
    "    val_mses.append(val_mse)\n",
    "    val_avg_losses.append(val_avg_loss)\n",
    "    \n",
    "    if val_mse < best_mse:\n",
    "        # best_loss = val_avg_loss\n",
    "        best_mse = val_mse\n",
    "        waited = 0\n",
    "        best_model = copy.deepcopy(model)\n",
    "    else:\n",
    "        waited += 1\n",
    "    \n",
    "    if waited == PATIENCE + 1:\n",
    "        break\n",
    "\n",
    "print('Done!')"
   ]
  },
  {
   "cell_type": "code",
   "execution_count": 193,
   "metadata": {},
   "outputs": [
    {
     "data": {
      "image/png": "[encoded data removed]",
      "text/plain": [
       "<Figure size 432x288 with 1 Axes>"
      ]
     },
     "metadata": {},
     "output_type": "display_data"
    }
   ],
   "source": [
    "plt.plot(val_mses)\n",
    "plt.show()"
   ]
  },
  {
   "cell_type": "code",
   "execution_count": 194,
   "metadata": {},
   "outputs": [
    {
     "name": "stdout",
     "output_type": "stream",
     "text": [
      "train\tMSE: 0.2404  MAE: 0.3760\n",
      "vali\tMSE: 0.3715  MAE: 0.4577\n",
      "test\tMSE: 0.4287  MAE: 0.4910\n"
     ]
    },
    {
     "data": {
      "text/plain": [
       "(0.4287498785346236, 0.4910014295752669)"
      ]
     },
     "execution_count": 194,
     "metadata": {},
     "output_type": "execute_result"
    }
   ],
   "source": [
    "selected_indexes = [0, 1]\n",
    "eval_model(train_dataloader, best_model, selected_indexes=selected_indexes,\n",
    "           verbose=True, title='train')\n",
    "\n",
    "eval_model(vali_dataloader, best_model, selected_indexes=selected_indexes,\n",
    "           verbose=True, title='vali')\n",
    "\n",
    "eval_model(test_dataloader, best_model, selected_indexes=selected_indexes,\n",
    "           verbose=True, title='test')"
   ]
  },
  {
   "cell_type": "markdown",
   "metadata": {},
   "source": [
    "## 7. CNN Model with Interpolated Simulation Image + Depth + Density"
   ]
  },
  {
   "cell_type": "code",
   "execution_count": 117,
   "metadata": {},
   "outputs": [],
   "source": [
    "new_heatmap_image_data = np.load('./data/special-normalized-displayment-heatmaps.npz')\n",
    "new_heatmaps_images = new_heatmap_image_data['rs_normalized_heatmaps']\n",
    "new_heatmaps_ids = new_heatmap_image_data['heatmaps_ids']"
   ]
  },
  {
   "cell_type": "code",
   "execution_count": 222,
   "metadata": {},
   "outputs": [
    {
     "data": {
      "text/plain": [
       "array([ 799,  941,  955, ...,  958, 1186,  780])"
      ]
     },
     "execution_count": 222,
     "metadata": {},
     "output_type": "execute_result"
    }
   ],
   "source": [
    "heatmaps_ids"
   ]
  },
  {
   "cell_type": "code",
   "execution_count": 223,
   "metadata": {},
   "outputs": [
    {
     "data": {
      "text/plain": [
       "array([ 753, 1465,  231, ...,  186, 1143, 1012])"
      ]
     },
     "execution_count": 223,
     "metadata": {},
     "output_type": "execute_result"
    }
   ],
   "source": [
    "new_heatmaps_ids"
   ]
  },
  {
   "cell_type": "code",
   "execution_count": 225,
   "metadata": {},
   "outputs": [
    {
     "data": {
      "text/plain": [
       "(1363, 256, 256)"
      ]
     },
     "execution_count": 225,
     "metadata": {},
     "output_type": "execute_result"
    }
   ],
   "source": [
    "new_heatmaps_images.shape"
   ]
  },
  {
   "cell_type": "markdown",
   "metadata": {},
   "source": [
    "Need to re-order the `new_heatmaps` to match the previous order."
   ]
  },
  {
   "cell_type": "code",
   "execution_count": 231,
   "metadata": {},
   "outputs": [],
   "source": [
    "new_heatmaps_images_ordered = [None for i in range(new_heatmaps_images.shape[0])]\n",
    "new_heatmaps_ids_ordered = [None for i in range(new_heatmaps_images.shape[0])]\n",
    "\n",
    "for i in range(len(heatmaps_ids)):\n",
    "    cur_index = new_heatmaps_ids.tolist().index(heatmaps_ids[i])\n",
    "    new_heatmaps_images_ordered[i] = new_heatmaps_images[cur_index]\n",
    "    new_heatmaps_ids_ordered[i] = new_heatmaps_ids[cur_index]\n",
    "    \n",
    "new_heatmaps_images_ordered = np.array(new_heatmaps_images_ordered)\n",
    "new_heatmaps_ids_ordered = np.array(new_heatmaps_ids_ordered)"
   ]
  },
  {
   "cell_type": "code",
   "execution_count": 232,
   "metadata": {},
   "outputs": [
    {
     "data": {
      "text/plain": [
       "array([ 799,  941,  955, ...,  958, 1186,  780])"
      ]
     },
     "execution_count": 232,
     "metadata": {},
     "output_type": "execute_result"
    }
   ],
   "source": [
    "new_heatmaps_ids_ordered"
   ]
  },
  {
   "cell_type": "code",
   "execution_count": 234,
   "metadata": {},
   "outputs": [
    {
     "name": "stderr",
     "output_type": "stream",
     "text": [
      "100%|██████████| 1363/1363 [00:00<00:00, 1523.80it/s]\n",
      "/nethome/zwang3049/jay/miniconda3/envs/nlp/lib/python3.7/site-packages/ipykernel_launcher.py:15: VisibleDeprecationWarning: Creating an ndarray from ragged nested sequences (which is a list-or-tuple of lists-or-tuples-or ndarrays with different lengths or shapes) is deprecated. If you meant to do this, you must specify 'dtype=object' when creating the ndarray\n",
      "  from ipykernel import kernelapp as app\n"
     ]
    }
   ],
   "source": [
    "features = []\n",
    "scores = []\n",
    "\n",
    "for i in tqdm(range(len(new_heatmaps_ids_ordered))):\n",
    "    df_i = indexes.index(new_heatmaps_ids_ordered[i])\n",
    "    \n",
    "    # Collect the features\n",
    "    row = feature_df_normalized.iloc[df_i, :]\n",
    "    cur_features = row[['Depth', 'd']].to_numpy().astype(float)\n",
    "    features.append((new_heatmaps_images_ordered[i], cur_features))\n",
    "    \n",
    "    # Collect the y's\n",
    "    scores.append(row['phi'])\n",
    "\n",
    "features = np.array(features)\n",
    "scores = np.array(scores)"
   ]
  },
  {
   "cell_type": "code",
   "execution_count": 235,
   "metadata": {},
   "outputs": [],
   "source": [
    "device = torch.device('cuda' if torch.cuda.is_available() else 'cpu')"
   ]
  },
  {
   "cell_type": "code",
   "execution_count": 236,
   "metadata": {},
   "outputs": [],
   "source": [
    "class SimpleCNN(nn.Module):\n",
    "    def __init__(self, additional_feature_size):\n",
    "        super(SimpleCNN, self).__init__()\n",
    "        self.additional_feature_size = additional_feature_size\n",
    "        self.conv1 = nn.Conv2d(1, 6, 3)     \n",
    "        self.conv2 = nn.Conv2d(6, 6, 3)\n",
    "        self.pool1= nn.MaxPool2d(2, 2)\n",
    "        \n",
    "        self.conv3 = nn.Conv2d(6, 6, 3)\n",
    "        self.conv4 = nn.Conv2d(6, 6, 3)\n",
    "        self.pool2 = nn.MaxPool2d(2, 2)\n",
    "\n",
    "        self.conv5 = nn.Conv2d(6, 6, 3)\n",
    "        self.conv6 = nn.Conv2d(6, 6, 3)\n",
    "        self.pool3 = nn.MaxPool2d(2, 2)\n",
    "        \n",
    "        self.fc1 = nn.Linear(6 * 28 * 28 + self.additional_feature_size, 120)\n",
    "        self.fc2 = nn.Linear(120, 84)\n",
    "        self.fc3 = nn.Linear(84, 1)\n",
    "\n",
    "    def forward(self, image, feature):\n",
    "        image = image.view(-1, 1, 256, 256)\n",
    "        \n",
    "        # Passing the CNN layers\n",
    "        x = F.relu(self.conv1(image))\n",
    "        x = self.pool1(F.relu(self.conv2(x)))\n",
    "        \n",
    "        x = F.relu(self.conv3(x))\n",
    "        x = self.pool2(F.relu(self.conv4(x)))\n",
    "        \n",
    "        x = F.relu(self.conv5(x))\n",
    "        x = self.pool3(F.relu(self.conv6(x)))\n",
    "                \n",
    "        x = x.view(-1, 6 * 28 * 28)\n",
    "        \n",
    "        # Concatenate with extra features\n",
    "        x = torch.cat((x, feature), dim=1)\n",
    "        \n",
    "        x = F.relu(self.fc1(x))\n",
    "        x = F.relu(self.fc2(x))\n",
    "        x = self.fc3(x)\n",
    "        \n",
    "        # x = F.softmax(x, dim=1)\n",
    "        return x"
   ]
  },
  {
   "cell_type": "code",
   "execution_count": 237,
   "metadata": {},
   "outputs": [
    {
     "data": {
      "text/plain": [
       "tensor([[0.0215]], device='cuda:0', grad_fn=<AddmmBackward>)"
      ]
     },
     "execution_count": 237,
     "metadata": {},
     "output_type": "execute_result"
    }
   ],
   "source": [
    "model = SimpleCNN(2)\n",
    "image = torch.tensor([features[0][0]]).float().to(device)\n",
    "feature = torch.tensor([features[0][1]]).float().to(device)[:, :]\n",
    "model = model.to(device)\n",
    "model(image, feature)"
   ]
  },
  {
   "cell_type": "code",
   "execution_count": 238,
   "metadata": {},
   "outputs": [
    {
     "data": {
      "text/plain": [
       "(256, 256)"
      ]
     },
     "execution_count": 238,
     "metadata": {},
     "output_type": "execute_result"
    }
   ],
   "source": [
    "features[0][0].shape"
   ]
  },
  {
   "cell_type": "code",
   "execution_count": 239,
   "metadata": {},
   "outputs": [],
   "source": [
    "class HeatmapDataset(Dataset):\n",
    "\n",
    "    def __init__(self, features, labels):\n",
    "        self.features = features\n",
    "        self.labels = labels\n",
    "\n",
    "    def __len__(self):\n",
    "        return len(self.labels)\n",
    "\n",
    "    def __getitem__(self, idx):\n",
    "        if torch.is_tensor(idx):\n",
    "            idx = idx.tolist()\n",
    "\n",
    "        cur_feature = self.features[idx]\n",
    "        # label = nn.functional.one_hot(torch.tensor(labels[idx]), num_classes=3)\n",
    "        label = torch.tensor([self.labels[idx]]).float()\n",
    "        \n",
    "        # Load image and extra feature\n",
    "        image = torch.tensor(cur_feature[0]).float()\n",
    "        extra_feature = torch.tensor(cur_feature[1]).float()\n",
    "        \n",
    "        # Transform image\n",
    "        image = image.view((1, 500, 500))\n",
    "        \n",
    "        sample = {'image': image, 'feature': extra_feature, 'label': label}\n",
    "\n",
    "        return sample"
   ]
  },
  {
   "cell_type": "code",
   "execution_count": 240,
   "metadata": {},
   "outputs": [
    {
     "name": "stdout",
     "output_type": "stream",
     "text": [
      "(817, 2) (817,) (273, 2) (273,) (273, 2) (273,)\n"
     ]
    }
   ],
   "source": [
    "train_features, temp_features, train_scores, temp_scores = train_test_split(\n",
    "    features, scores, train_size=0.6, random_state=RANDOM_SEED)\n",
    "vali_features, test_features, vali_scores, test_scores = train_test_split(\n",
    "    temp_features, temp_scores, train_size=0.5, random_state=RANDOM_SEED)\n",
    "\n",
    "print(train_features.shape, train_scores.shape,\n",
    "      vali_features.shape, vali_scores.shape,\n",
    "      test_features.shape, test_scores.shape)"
   ]
  },
  {
   "cell_type": "code",
   "execution_count": 242,
   "metadata": {},
   "outputs": [
    {
     "name": "stderr",
     "output_type": "stream",
     "text": [
      "  0%|          | 0/400 [00:00<?, ?it/s]"
     ]
    },
    {
     "name": "stdout",
     "output_type": "stream",
     "text": [
      "Using device: cuda\n"
     ]
    },
    {
     "name": "stderr",
     "output_type": "stream",
     "text": [
      "100%|██████████| 400/400 [07:33<00:00,  1.13s/it]"
     ]
    },
    {
     "name": "stdout",
     "output_type": "stream",
     "text": [
      "Done!\n"
     ]
    },
    {
     "name": "stderr",
     "output_type": "stream",
     "text": [
      "\n"
     ]
    }
   ],
   "source": [
    "PATIENCE = 400\n",
    "epochs = 400\n",
    "\n",
    "device = torch.device('cuda' if torch.cuda.is_available() else 'cpu')\n",
    "print('Using device:', device)\n",
    "\n",
    "selected_indexes = [0, 1]\n",
    "\n",
    "model = SimpleCNN(len(selected_indexes)).to(device)\n",
    "\n",
    "criterion = nn.MSELoss()\n",
    "lr = 1e-3\n",
    "optimizer = torch.optim.Adam(model.parameters(), lr=lr)\n",
    "\n",
    "train_mses = []\n",
    "train_avg_losses = []\n",
    "\n",
    "val_mses = []\n",
    "val_avg_losses = []\n",
    "\n",
    "best_loss = np.inf\n",
    "best_mse = np.inf\n",
    "waited = 0\n",
    "best_model = None\n",
    "\n",
    "for e in tqdm(range(epochs)):\n",
    "    mse, avg_loss = train_one_epoch(train_dataloader, e, verbose=False,\n",
    "                                    selected_indexes=selected_indexes)\n",
    "    train_mses.append(mse)\n",
    "    train_avg_losses.append(avg_loss)\n",
    "    \n",
    "    # Test on the validation set\n",
    "    val_mse, val_avg_loss = eval_model(vali_dataloader, model,\n",
    "                                       selected_indexes=selected_indexes)\n",
    "    val_mses.append(val_mse)\n",
    "    val_avg_losses.append(val_avg_loss)\n",
    "    \n",
    "    if val_mse < best_mse:\n",
    "        # best_loss = val_avg_loss\n",
    "        best_mse = val_mse\n",
    "        waited = 0\n",
    "        best_model = copy.deepcopy(model)\n",
    "    else:\n",
    "        waited += 1\n",
    "    \n",
    "    if waited == PATIENCE + 1:\n",
    "        break\n",
    "\n",
    "print('Done!')"
   ]
  },
  {
   "cell_type": "code",
   "execution_count": 243,
   "metadata": {},
   "outputs": [
    {
     "data": {
      "image/png": "[encoded data removed]",
      "text/plain": [
       "<Figure size 432x288 with 1 Axes>"
      ]
     },
     "metadata": {},
     "output_type": "display_data"
    }
   ],
   "source": [
    "plt.plot(val_mses)\n",
    "plt.show()"
   ]
  },
  {
   "cell_type": "code",
   "execution_count": 244,
   "metadata": {},
   "outputs": [
    {
     "name": "stdout",
     "output_type": "stream",
     "text": [
      "train\tMSE: 0.3317  MAE: 0.4495\n",
      "vali\tMSE: 0.6798  MAE: 0.5917\n",
      "test\tMSE: 0.6431  MAE: 0.6050\n"
     ]
    },
    {
     "data": {
      "text/plain": [
       "(0.643094870776562, 0.6050311147948324)"
      ]
     },
     "execution_count": 244,
     "metadata": {},
     "output_type": "execute_result"
    }
   ],
   "source": [
    "selected_indexes = [0, 1]\n",
    "eval_model(train_dataloader, best_model, selected_indexes=selected_indexes,\n",
    "           verbose=True, title='train')\n",
    "\n",
    "eval_model(vali_dataloader, best_model, selected_indexes=selected_indexes,\n",
    "           verbose=True, title='vali')\n",
    "\n",
    "eval_model(test_dataloader, best_model, selected_indexes=selected_indexes,\n",
    "           verbose=True, title='test')"
   ]
  },
  {
   "cell_type": "markdown",
   "metadata": {},
   "source": [
    "## 8. Naive Baseline Model\n",
    "\n",
    "Finally, we can \"train\" a naive baseline model that uses the average values in the training set for all predictions."
   ]
  },
  {
   "cell_type": "code",
   "execution_count": 118,
   "metadata": {},
   "outputs": [
    {
     "data": {
      "text/plain": [
       "(817,)"
      ]
     },
     "execution_count": 118,
     "metadata": {},
     "output_type": "execute_result"
    }
   ],
   "source": [
    "train_scores.shape"
   ]
  },
  {
   "cell_type": "code",
   "execution_count": 119,
   "metadata": {},
   "outputs": [
    {
     "data": {
      "text/plain": [
       "(273,)"
      ]
     },
     "execution_count": 119,
     "metadata": {},
     "output_type": "execute_result"
    }
   ],
   "source": [
    "vali_scores.shape"
   ]
  },
  {
   "cell_type": "code",
   "execution_count": 120,
   "metadata": {},
   "outputs": [
    {
     "data": {
      "text/plain": [
       "(273,)"
      ]
     },
     "execution_count": 120,
     "metadata": {},
     "output_type": "execute_result"
    }
   ],
   "source": [
    "test_scores.shape"
   ]
  },
  {
   "cell_type": "code",
   "execution_count": 121,
   "metadata": {},
   "outputs": [
    {
     "name": "stdout",
     "output_type": "stream",
     "text": [
      "train\tMSE: 54.4796  MAE: 6.4217\n"
     ]
    }
   ],
   "source": [
    "train_predicts = np.random.uniform(np.min(train_scores), np.max(train_scores), len(train_scores))\n",
    "\n",
    "train_predicts = np.ones(len(train_scores)) * np.mean(train_scores)\n",
    "\n",
    "mse = metrics.mean_squared_error(train_scores, train_predicts)\n",
    "mae = metrics.mean_absolute_error(train_scores, train_predicts)\n",
    "\n",
    "print('{}\\tMSE: {:.4f}  MAE: {:.4f}'.format('train', mse, mae))"
   ]
  },
  {
   "cell_type": "code",
   "execution_count": 122,
   "metadata": {},
   "outputs": [
    {
     "name": "stdout",
     "output_type": "stream",
     "text": [
      "vali\tMSE: 55.7437  MAE: 6.4772\n"
     ]
    }
   ],
   "source": [
    "train_predicts = np.random.uniform(np.min(train_scores), np.max(train_scores), len(vali_scores))\n",
    "\n",
    "train_predicts = np.ones(len(vali_scores)) * np.mean(train_scores)\n",
    "\n",
    "mse = metrics.mean_squared_error(vali_scores, train_predicts)\n",
    "mae = metrics.mean_absolute_error(vali_scores, train_predicts)\n",
    "\n",
    "print('{}\\tMSE: {:.4f}  MAE: {:.4f}'.format('vali', mse, mae))"
   ]
  },
  {
   "cell_type": "code",
   "execution_count": 123,
   "metadata": {},
   "outputs": [
    {
     "name": "stdout",
     "output_type": "stream",
     "text": [
      "test\tMSE: 55.3257  MAE: 6.4636\n"
     ]
    }
   ],
   "source": [
    "train_predicts = np.random.uniform(np.min(train_scores), np.max(train_scores), len(test_scores))\n",
    "\n",
    "train_predicts = np.ones(len(test_scores)) * np.mean(train_scores)\n",
    "\n",
    "mse = metrics.mean_squared_error(test_scores, train_predicts)\n",
    "mae = metrics.mean_absolute_error(test_scores, train_predicts)\n",
    "\n",
    "print('{}\\tMSE: {:.4f}  MAE: {:.4f}'.format('test', mse, mae))"
   ]
  },
  {
   "cell_type": "code",
   "execution_count": null,
   "metadata": {},
   "outputs": [],
   "source": []
  }
 ],
 "metadata": {
  "kernelspec": {
   "display_name": "Python 3 (ipykernel)",
   "language": "python",
   "name": "python3"
  },
  "language_info": {
   "codemirror_mode": {
    "name": "ipython",
    "version": 3
   },
   "file_extension": ".py",
   "mimetype": "text/x-python",
   "name": "python",
   "nbconvert_exporter": "python",
   "pygments_lexer": "ipython3",
   "version": "3.8.11"
  }
 },
 "nbformat": 4,
 "nbformat_minor": 4
}
